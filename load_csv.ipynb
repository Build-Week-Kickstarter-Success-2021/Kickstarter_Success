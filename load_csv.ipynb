{
 "cells": [
  {
   "cell_type": "code",
   "execution_count": 1,
   "source": [
    "import re\r\n",
    "import pandas as pd\r\n",
    "from features_prep import *"
   ],
   "outputs": [],
   "metadata": {}
  },
  {
   "cell_type": "code",
   "execution_count": 70,
   "source": [
    "df = pd.read_csv('./MP_datasets/Kickstarter20_21_Consolidated.csv', index_col=0)"
   ],
   "outputs": [],
   "metadata": {}
  },
  {
   "cell_type": "code",
   "execution_count": null,
   "source": [
    "df['category'].convert_dtypes(convert_string=True)\r\n",
    "df['subcategory'] = df['category'].apply(lambda x: subcatego(x))\r\n",
    "df['category'] = df['category'].apply(lambda x: catego(x))"
   ],
   "outputs": [],
   "metadata": {}
  },
  {
   "cell_type": "code",
   "execution_count": null,
   "source": [
    "df = wrangle2(df)"
   ],
   "outputs": [],
   "metadata": {}
  },
  {
   "cell_type": "code",
   "execution_count": null,
   "source": [
    "df.columns"
   ],
   "outputs": [],
   "metadata": {}
  },
  {
   "cell_type": "code",
   "execution_count": null,
   "source": [
    "blurb_stats = df['name_blurb'].apply(lambda x: blurb_quant(x))"
   ],
   "outputs": [],
   "metadata": {}
  },
  {
   "cell_type": "code",
   "execution_count": null,
   "source": [],
   "outputs": [],
   "metadata": {}
  }
 ],
 "metadata": {
  "orig_nbformat": 4,
  "language_info": {
   "name": "python",
   "version": "3.9.6",
   "mimetype": "text/x-python",
   "codemirror_mode": {
    "name": "ipython",
    "version": 3
   },
   "pygments_lexer": "ipython3",
   "nbconvert_exporter": "python",
   "file_extension": ".py"
  },
  "kernelspec": {
   "name": "python3",
   "display_name": "Python 3.9.6 64-bit ('kickstart-et90GfLD': pipenv)"
  },
  "interpreter": {
   "hash": "7f348168da4656c19ea54772beb3b0ca6931a1c83b4cc20d34306b6f75485559"
  }
 },
 "nbformat": 4,
 "nbformat_minor": 2
}