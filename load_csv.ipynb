{
 "cells": [
  {
   "cell_type": "code",
   "execution_count": 1,
   "source": [
    "import re\r\n",
    "import pandas as pd\r\n",
    "from features_prep import *"
   ],
   "outputs": [],
   "metadata": {}
  },
  {
   "cell_type": "code",
   "execution_count": 51,
   "source": [
    "df = pd.read_csv('./MP_datasets/Kickstarter20_21_short3.csv', index_col=0)"
   ],
   "outputs": [],
   "metadata": {}
  },
  {
   "cell_type": "code",
   "execution_count": 52,
   "source": [
    "df = df.reset_index(drop=True)"
   ],
   "outputs": [],
   "metadata": {}
  },
  {
   "cell_type": "code",
   "execution_count": 37,
   "source": [
    "# df.info()"
   ],
   "outputs": [],
   "metadata": {}
  },
  {
   "cell_type": "code",
   "execution_count": 53,
   "source": [
    "df['category'].convert_dtypes(convert_string=True)\r\n",
    "df['subcategory'] = df['category'].apply(lambda x: subcatego(x))\r\n",
    "df['category'] = df['category'].apply(lambda x: catego(x))"
   ],
   "outputs": [],
   "metadata": {}
  },
  {
   "cell_type": "code",
   "execution_count": 54,
   "source": [
    "df = wrangle2(df)"
   ],
   "outputs": [],
   "metadata": {}
  },
  {
   "cell_type": "code",
   "execution_count": 55,
   "source": [
    "df.columns"
   ],
   "outputs": [
    {
     "output_type": "execute_result",
     "data": {
      "text/plain": [
       "Index(['category', 'country', 'created_at', 'deadline', 'id', 'launched_at',\n",
       "       'success', 'subcategory', 'goal_usd', 'launch_day',\n",
       "       'campaign_duration_in_days', 'name_blurb'],\n",
       "      dtype='object')"
      ]
     },
     "metadata": {},
     "execution_count": 55
    }
   ],
   "metadata": {}
  },
  {
   "cell_type": "code",
   "execution_count": 56,
   "source": [
    "df.head(4)"
   ],
   "outputs": [
    {
     "output_type": "execute_result",
     "data": {
      "text/html": [
       "<div>\n",
       "<style scoped>\n",
       "    .dataframe tbody tr th:only-of-type {\n",
       "        vertical-align: middle;\n",
       "    }\n",
       "\n",
       "    .dataframe tbody tr th {\n",
       "        vertical-align: top;\n",
       "    }\n",
       "\n",
       "    .dataframe thead th {\n",
       "        text-align: right;\n",
       "    }\n",
       "</style>\n",
       "<table border=\"1\" class=\"dataframe\">\n",
       "  <thead>\n",
       "    <tr style=\"text-align: right;\">\n",
       "      <th></th>\n",
       "      <th>category</th>\n",
       "      <th>country</th>\n",
       "      <th>created_at</th>\n",
       "      <th>deadline</th>\n",
       "      <th>id</th>\n",
       "      <th>launched_at</th>\n",
       "      <th>success</th>\n",
       "      <th>subcategory</th>\n",
       "      <th>goal_usd</th>\n",
       "      <th>launch_day</th>\n",
       "      <th>campaign_duration_in_days</th>\n",
       "      <th>name_blurb</th>\n",
       "    </tr>\n",
       "  </thead>\n",
       "  <tbody>\n",
       "    <tr>\n",
       "      <th>1</th>\n",
       "      <td>publishing</td>\n",
       "      <td>US</td>\n",
       "      <td>2017-02-07 21:29:49</td>\n",
       "      <td>2017-04-17 03:55:15</td>\n",
       "      <td>1920284335</td>\n",
       "      <td>2017-03-18 03:55:15</td>\n",
       "      <td>1</td>\n",
       "      <td>art books</td>\n",
       "      <td>3700.00</td>\n",
       "      <td>5</td>\n",
       "      <td>30</td>\n",
       "      <td>(Hand Crafted: An Illustrated Cocktail Book, A...</td>\n",
       "    </tr>\n",
       "    <tr>\n",
       "      <th>2</th>\n",
       "      <td>film</td>\n",
       "      <td>GB</td>\n",
       "      <td>2019-11-25 20:46:29</td>\n",
       "      <td>2020-01-04 23:59:00</td>\n",
       "      <td>792653686</td>\n",
       "      <td>2019-12-06 20:24:11</td>\n",
       "      <td>1</td>\n",
       "      <td>film</td>\n",
       "      <td>2622.77</td>\n",
       "      <td>4</td>\n",
       "      <td>29</td>\n",
       "      <td>(The Road Home, Exploring the disastrous socia...</td>\n",
       "    </tr>\n",
       "    <tr>\n",
       "      <th>3</th>\n",
       "      <td>technology</td>\n",
       "      <td>HK</td>\n",
       "      <td>2019-10-21 03:03:23</td>\n",
       "      <td>2020-01-08 15:00:31</td>\n",
       "      <td>68439695</td>\n",
       "      <td>2019-12-09 15:00:31</td>\n",
       "      <td>1</td>\n",
       "      <td>hardware</td>\n",
       "      <td>2043.41</td>\n",
       "      <td>0</td>\n",
       "      <td>30</td>\n",
       "      <td>(Gkempt：56TB HDD Cloud Storage, No Subscriptio...</td>\n",
       "    </tr>\n",
       "    <tr>\n",
       "      <th>4</th>\n",
       "      <td>film</td>\n",
       "      <td>US</td>\n",
       "      <td>2015-05-08 18:49:11</td>\n",
       "      <td>2015-07-01 00:00:00</td>\n",
       "      <td>1935147814</td>\n",
       "      <td>2015-06-01 06:24:04</td>\n",
       "      <td>1</td>\n",
       "      <td>film</td>\n",
       "      <td>15000.00</td>\n",
       "      <td>0</td>\n",
       "      <td>30</td>\n",
       "      <td>(Souls of the Vermilion Sea, A documentary fil...</td>\n",
       "    </tr>\n",
       "  </tbody>\n",
       "</table>\n",
       "</div>"
      ],
      "text/plain": [
       "     category country          created_at            deadline          id  \\\n",
       "1  publishing      US 2017-02-07 21:29:49 2017-04-17 03:55:15  1920284335   \n",
       "2       film       GB 2019-11-25 20:46:29 2020-01-04 23:59:00   792653686   \n",
       "3  technology      HK 2019-10-21 03:03:23 2020-01-08 15:00:31    68439695   \n",
       "4       film       US 2015-05-08 18:49:11 2015-07-01 00:00:00  1935147814   \n",
       "\n",
       "          launched_at success subcategory  goal_usd  launch_day  \\\n",
       "1 2017-03-18 03:55:15       1   art books   3700.00           5   \n",
       "2 2019-12-06 20:24:11       1       film    2622.77           4   \n",
       "3 2019-12-09 15:00:31       1    hardware   2043.41           0   \n",
       "4 2015-06-01 06:24:04       1       film   15000.00           0   \n",
       "\n",
       "   campaign_duration_in_days  \\\n",
       "1                         30   \n",
       "2                         29   \n",
       "3                         30   \n",
       "4                         30   \n",
       "\n",
       "                                          name_blurb  \n",
       "1  (Hand Crafted: An Illustrated Cocktail Book, A...  \n",
       "2  (The Road Home, Exploring the disastrous socia...  \n",
       "3  (Gkempt：56TB HDD Cloud Storage, No Subscriptio...  \n",
       "4  (Souls of the Vermilion Sea, A documentary fil...  "
      ]
     },
     "metadata": {},
     "execution_count": 56
    }
   ],
   "metadata": {}
  },
  {
   "cell_type": "code",
   "execution_count": 57,
   "source": [
    "df_narrow = df[df.columns[[4, 6, 8, 10, 0, 7, 1, 9, 11]]] "
   ],
   "outputs": [],
   "metadata": {}
  },
  {
   "cell_type": "code",
   "execution_count": 58,
   "source": [
    "df_narrow.head()"
   ],
   "outputs": [
    {
     "output_type": "execute_result",
     "data": {
      "text/html": [
       "<div>\n",
       "<style scoped>\n",
       "    .dataframe tbody tr th:only-of-type {\n",
       "        vertical-align: middle;\n",
       "    }\n",
       "\n",
       "    .dataframe tbody tr th {\n",
       "        vertical-align: top;\n",
       "    }\n",
       "\n",
       "    .dataframe thead th {\n",
       "        text-align: right;\n",
       "    }\n",
       "</style>\n",
       "<table border=\"1\" class=\"dataframe\">\n",
       "  <thead>\n",
       "    <tr style=\"text-align: right;\">\n",
       "      <th></th>\n",
       "      <th>id</th>\n",
       "      <th>success</th>\n",
       "      <th>goal_usd</th>\n",
       "      <th>campaign_duration_in_days</th>\n",
       "      <th>category</th>\n",
       "      <th>subcategory</th>\n",
       "      <th>country</th>\n",
       "      <th>launch_day</th>\n",
       "      <th>name_blurb</th>\n",
       "    </tr>\n",
       "  </thead>\n",
       "  <tbody>\n",
       "    <tr>\n",
       "      <th>1</th>\n",
       "      <td>1920284335</td>\n",
       "      <td>1</td>\n",
       "      <td>3700.00</td>\n",
       "      <td>30</td>\n",
       "      <td>publishing</td>\n",
       "      <td>art books</td>\n",
       "      <td>US</td>\n",
       "      <td>5</td>\n",
       "      <td>(Hand Crafted: An Illustrated Cocktail Book, A...</td>\n",
       "    </tr>\n",
       "    <tr>\n",
       "      <th>2</th>\n",
       "      <td>792653686</td>\n",
       "      <td>1</td>\n",
       "      <td>2622.77</td>\n",
       "      <td>29</td>\n",
       "      <td>film</td>\n",
       "      <td>film</td>\n",
       "      <td>GB</td>\n",
       "      <td>4</td>\n",
       "      <td>(The Road Home, Exploring the disastrous socia...</td>\n",
       "    </tr>\n",
       "    <tr>\n",
       "      <th>3</th>\n",
       "      <td>68439695</td>\n",
       "      <td>1</td>\n",
       "      <td>2043.41</td>\n",
       "      <td>30</td>\n",
       "      <td>technology</td>\n",
       "      <td>hardware</td>\n",
       "      <td>HK</td>\n",
       "      <td>0</td>\n",
       "      <td>(Gkempt：56TB HDD Cloud Storage, No Subscriptio...</td>\n",
       "    </tr>\n",
       "    <tr>\n",
       "      <th>4</th>\n",
       "      <td>1935147814</td>\n",
       "      <td>1</td>\n",
       "      <td>15000.00</td>\n",
       "      <td>30</td>\n",
       "      <td>film</td>\n",
       "      <td>film</td>\n",
       "      <td>US</td>\n",
       "      <td>0</td>\n",
       "      <td>(Souls of the Vermilion Sea, A documentary fil...</td>\n",
       "    </tr>\n",
       "    <tr>\n",
       "      <th>5</th>\n",
       "      <td>1785881232</td>\n",
       "      <td>1</td>\n",
       "      <td>3878.16</td>\n",
       "      <td>30</td>\n",
       "      <td>technology</td>\n",
       "      <td>technology</td>\n",
       "      <td>GB</td>\n",
       "      <td>1</td>\n",
       "      <td>(Pop Lumen! The magnetic quick release keychai...</td>\n",
       "    </tr>\n",
       "  </tbody>\n",
       "</table>\n",
       "</div>"
      ],
      "text/plain": [
       "           id success  goal_usd  campaign_duration_in_days    category  \\\n",
       "1  1920284335       1   3700.00                         30  publishing   \n",
       "2   792653686       1   2622.77                         29       film    \n",
       "3    68439695       1   2043.41                         30  technology   \n",
       "4  1935147814       1  15000.00                         30       film    \n",
       "5  1785881232       1   3878.16                         30  technology   \n",
       "\n",
       "  subcategory country  launch_day  \\\n",
       "1   art books      US           5   \n",
       "2       film       GB           4   \n",
       "3    hardware      HK           0   \n",
       "4       film       US           0   \n",
       "5  technology      GB           1   \n",
       "\n",
       "                                          name_blurb  \n",
       "1  (Hand Crafted: An Illustrated Cocktail Book, A...  \n",
       "2  (The Road Home, Exploring the disastrous socia...  \n",
       "3  (Gkempt：56TB HDD Cloud Storage, No Subscriptio...  \n",
       "4  (Souls of the Vermilion Sea, A documentary fil...  \n",
       "5  (Pop Lumen! The magnetic quick release keychai...  "
      ]
     },
     "metadata": {},
     "execution_count": 58
    }
   ],
   "metadata": {}
  },
  {
   "cell_type": "code",
   "execution_count": 46,
   "source": [
    "((7000-780)/2)/3600"
   ],
   "outputs": [
    {
     "output_type": "execute_result",
     "data": {
      "text/plain": [
       "0.8638888888888889"
      ]
     },
     "metadata": {},
     "execution_count": 46
    }
   ],
   "metadata": {}
  },
  {
   "cell_type": "code",
   "execution_count": 59,
   "source": [
    "blurb_stats = df_narrow['name_blurb'].apply(lambda x: blurb_quant(x))\r\n",
    "# 7000 s for 280000 rows\r\n",
    "#  780 s for  27000 rows\r\n",
    "# 2740 s for  13000 rows\r\n",
    "# 2870 s for  13000 rows"
   ],
   "outputs": [],
   "metadata": {}
  },
  {
   "cell_type": "code",
   "execution_count": 13,
   "source": [
    "df_narrow.subcategory.unique  \r\n",
    "\r\n",
    "# MP: spacy-vectorize the subcategories (adjusted: rock --> rock music, diy --> d.i.y. crafts, etc.), \r\n",
    "# feed neural network;\r\n",
    "# dimensionality reduction is ok, if it helps, because front-end will explain the feature importance without numbers"
   ],
   "outputs": [
    {
     "output_type": "execute_result",
     "data": {
      "text/plain": [
       "<bound method Series.unique of 0         conceptual art\n",
       "1                   rock\n",
       "2         conceptual art\n",
       "3                    diy\n",
       "4         graphic novels\n",
       "              ...       \n",
       "27497              zines\n",
       "27498        3d printing\n",
       "27499    diy electronics\n",
       "27500               food\n",
       "27501            gadgets\n",
       "Name: subcategory, Length: 26951, dtype: object>"
      ]
     },
     "metadata": {},
     "execution_count": 13
    }
   ],
   "metadata": {}
  },
  {
   "cell_type": "code",
   "execution_count": 60,
   "source": [
    "df_wide3 = df_narrow.join(blurb_stats)\r\n"
   ],
   "outputs": [],
   "metadata": {}
  },
  {
   "cell_type": "code",
   "execution_count": 61,
   "source": [
    "df_wide3 = df_wide3.drop('name_blurb', axis=1)"
   ],
   "outputs": [],
   "metadata": {}
  },
  {
   "cell_type": "code",
   "execution_count": 62,
   "source": [
    "# df_wide.to_csv('df_wide.csv', index_label=False)  # not ok\r\n",
    "# df_wide.to_csv('df_wide.csv', index_label=None)   # ok\r\n",
    "df_wide3.to_csv('df_wide3.csv', index=False)  # yes\r\n"
   ],
   "outputs": [],
   "metadata": {}
  },
  {
   "cell_type": "code",
   "execution_count": 26,
   "source": [
    "df_wide.tail()"
   ],
   "outputs": [
    {
     "output_type": "execute_result",
     "data": {
      "text/html": [
       "<div>\n",
       "<style scoped>\n",
       "    .dataframe tbody tr th:only-of-type {\n",
       "        vertical-align: middle;\n",
       "    }\n",
       "\n",
       "    .dataframe tbody tr th {\n",
       "        vertical-align: top;\n",
       "    }\n",
       "\n",
       "    .dataframe thead th {\n",
       "        text-align: right;\n",
       "    }\n",
       "</style>\n",
       "<table border=\"1\" class=\"dataframe\">\n",
       "  <thead>\n",
       "    <tr style=\"text-align: right;\">\n",
       "      <th></th>\n",
       "      <th>id</th>\n",
       "      <th>success</th>\n",
       "      <th>goal_usd</th>\n",
       "      <th>campaign_duration_in_days</th>\n",
       "      <th>category</th>\n",
       "      <th>subcategory</th>\n",
       "      <th>country</th>\n",
       "      <th>launch_day</th>\n",
       "      <th>name_chars</th>\n",
       "      <th>name_words</th>\n",
       "      <th>...</th>\n",
       "      <th>noun</th>\n",
       "      <th>shout</th>\n",
       "      <th>capwords</th>\n",
       "      <th>norm</th>\n",
       "      <th>subj</th>\n",
       "      <th>pol</th>\n",
       "      <th>pos</th>\n",
       "      <th>neg</th>\n",
       "      <th>neu</th>\n",
       "      <th>comp</th>\n",
       "    </tr>\n",
       "  </thead>\n",
       "  <tbody>\n",
       "    <tr>\n",
       "      <th>27497</th>\n",
       "      <td>888190580</td>\n",
       "      <td>0</td>\n",
       "      <td>2424.97</td>\n",
       "      <td>30</td>\n",
       "      <td>publishing</td>\n",
       "      <td>zines</td>\n",
       "      <td>NZ</td>\n",
       "      <td>6</td>\n",
       "      <td>58.0</td>\n",
       "      <td>11.0</td>\n",
       "      <td>...</td>\n",
       "      <td>9.0</td>\n",
       "      <td>0.0</td>\n",
       "      <td>6.0</td>\n",
       "      <td>3.269701</td>\n",
       "      <td>0.950000</td>\n",
       "      <td>0.812500</td>\n",
       "      <td>0.301</td>\n",
       "      <td>0.000</td>\n",
       "      <td>0.699</td>\n",
       "      <td>0.8478</td>\n",
       "    </tr>\n",
       "    <tr>\n",
       "      <th>27498</th>\n",
       "      <td>495116649</td>\n",
       "      <td>0</td>\n",
       "      <td>23363.01</td>\n",
       "      <td>35</td>\n",
       "      <td>technology</td>\n",
       "      <td>3d printing</td>\n",
       "      <td>DE</td>\n",
       "      <td>3</td>\n",
       "      <td>55.0</td>\n",
       "      <td>10.0</td>\n",
       "      <td>...</td>\n",
       "      <td>14.0</td>\n",
       "      <td>0.0</td>\n",
       "      <td>2.0</td>\n",
       "      <td>3.056597</td>\n",
       "      <td>0.500000</td>\n",
       "      <td>0.500000</td>\n",
       "      <td>0.139</td>\n",
       "      <td>0.000</td>\n",
       "      <td>0.861</td>\n",
       "      <td>0.4404</td>\n",
       "    </tr>\n",
       "    <tr>\n",
       "      <th>27499</th>\n",
       "      <td>831728453</td>\n",
       "      <td>0</td>\n",
       "      <td>4440.73</td>\n",
       "      <td>30</td>\n",
       "      <td>technology</td>\n",
       "      <td>diy electronics</td>\n",
       "      <td>GB</td>\n",
       "      <td>4</td>\n",
       "      <td>60.0</td>\n",
       "      <td>10.0</td>\n",
       "      <td>...</td>\n",
       "      <td>7.0</td>\n",
       "      <td>1.0</td>\n",
       "      <td>8.0</td>\n",
       "      <td>2.862655</td>\n",
       "      <td>0.000000</td>\n",
       "      <td>0.000000</td>\n",
       "      <td>0.000</td>\n",
       "      <td>0.000</td>\n",
       "      <td>1.000</td>\n",
       "      <td>0.0000</td>\n",
       "    </tr>\n",
       "    <tr>\n",
       "      <th>27500</th>\n",
       "      <td>935071903</td>\n",
       "      <td>1</td>\n",
       "      <td>8500.00</td>\n",
       "      <td>30</td>\n",
       "      <td>food</td>\n",
       "      <td>food</td>\n",
       "      <td>US</td>\n",
       "      <td>0</td>\n",
       "      <td>20.0</td>\n",
       "      <td>3.0</td>\n",
       "      <td>...</td>\n",
       "      <td>5.0</td>\n",
       "      <td>0.0</td>\n",
       "      <td>4.0</td>\n",
       "      <td>3.451262</td>\n",
       "      <td>0.497727</td>\n",
       "      <td>0.163636</td>\n",
       "      <td>0.216</td>\n",
       "      <td>0.000</td>\n",
       "      <td>0.784</td>\n",
       "      <td>0.7003</td>\n",
       "    </tr>\n",
       "    <tr>\n",
       "      <th>27501</th>\n",
       "      <td>1914160519</td>\n",
       "      <td>0</td>\n",
       "      <td>225000.00</td>\n",
       "      <td>45</td>\n",
       "      <td>technology</td>\n",
       "      <td>gadgets</td>\n",
       "      <td>US</td>\n",
       "      <td>1</td>\n",
       "      <td>59.0</td>\n",
       "      <td>10.0</td>\n",
       "      <td>...</td>\n",
       "      <td>4.0</td>\n",
       "      <td>4.0</td>\n",
       "      <td>12.0</td>\n",
       "      <td>3.175325</td>\n",
       "      <td>0.500000</td>\n",
       "      <td>0.500000</td>\n",
       "      <td>0.118</td>\n",
       "      <td>0.094</td>\n",
       "      <td>0.787</td>\n",
       "      <td>-0.1027</td>\n",
       "    </tr>\n",
       "  </tbody>\n",
       "</table>\n",
       "<p>5 rows × 27 columns</p>\n",
       "</div>"
      ],
      "text/plain": [
       "               id success   goal_usd  campaign_duration_in_days    category  \\\n",
       "27497   888190580       0    2424.97                         30  publishing   \n",
       "27498   495116649       0   23363.01                         35  technology   \n",
       "27499   831728453       0    4440.73                         30  technology   \n",
       "27500   935071903       1    8500.00                         30        food   \n",
       "27501  1914160519       0  225000.00                         45  technology   \n",
       "\n",
       "           subcategory country  launch_day  name_chars  name_words  ...  noun  \\\n",
       "27497            zines      NZ           6        58.0        11.0  ...   9.0   \n",
       "27498      3d printing      DE           3        55.0        10.0  ...  14.0   \n",
       "27499  diy electronics      GB           4        60.0        10.0  ...   7.0   \n",
       "27500             food      US           0        20.0         3.0  ...   5.0   \n",
       "27501          gadgets      US           1        59.0        10.0  ...   4.0   \n",
       "\n",
       "       shout  capwords      norm      subj       pol    pos    neg    neu  \\\n",
       "27497    0.0       6.0  3.269701  0.950000  0.812500  0.301  0.000  0.699   \n",
       "27498    0.0       2.0  3.056597  0.500000  0.500000  0.139  0.000  0.861   \n",
       "27499    1.0       8.0  2.862655  0.000000  0.000000  0.000  0.000  1.000   \n",
       "27500    0.0       4.0  3.451262  0.497727  0.163636  0.216  0.000  0.784   \n",
       "27501    4.0      12.0  3.175325  0.500000  0.500000  0.118  0.094  0.787   \n",
       "\n",
       "         comp  \n",
       "27497  0.8478  \n",
       "27498  0.4404  \n",
       "27499  0.0000  \n",
       "27500  0.7003  \n",
       "27501 -0.1027  \n",
       "\n",
       "[5 rows x 27 columns]"
      ]
     },
     "metadata": {},
     "execution_count": 26
    }
   ],
   "metadata": {}
  },
  {
   "cell_type": "code",
   "execution_count": 65,
   "source": [
    "df_wide.shape"
   ],
   "outputs": [
    {
     "output_type": "execute_result",
     "data": {
      "text/plain": [
       "(26951, 27)"
      ]
     },
     "metadata": {},
     "execution_count": 65
    }
   ],
   "metadata": {}
  },
  {
   "cell_type": "code",
   "execution_count": 64,
   "source": [
    "df_wide2.shape"
   ],
   "outputs": [
    {
     "output_type": "execute_result",
     "data": {
      "text/plain": [
       "(94255, 27)"
      ]
     },
     "metadata": {},
     "execution_count": 64
    }
   ],
   "metadata": {}
  },
  {
   "cell_type": "code",
   "execution_count": 66,
   "source": [
    "df_wide3.shape"
   ],
   "outputs": [
    {
     "output_type": "execute_result",
     "data": {
      "text/plain": [
       "(100029, 27)"
      ]
     },
     "metadata": {},
     "execution_count": 66
    }
   ],
   "metadata": {}
  },
  {
   "cell_type": "code",
   "execution_count": 92,
   "source": [
    "df_tue = pd.concat([df_wide, df_wide2, df_wide3], axis=0)"
   ],
   "outputs": [],
   "metadata": {}
  },
  {
   "cell_type": "code",
   "execution_count": 93,
   "source": [
    "df_tue.shape"
   ],
   "outputs": [
    {
     "output_type": "execute_result",
     "data": {
      "text/plain": [
       "(221235, 27)"
      ]
     },
     "metadata": {},
     "execution_count": 93
    }
   ],
   "metadata": {}
  },
  {
   "cell_type": "code",
   "execution_count": 125,
   "source": [
    "df_shuffled = df_tue.sample(frac=1, axis=0, random_state=33)\r\n",
    "\r\n",
    "train = int(len(df_shuffled)*0.7)\r\n",
    "train_df = df_shuffled[:train]\r\n",
    "holdout_df = df_shuffled[train:]\r\n",
    "\r\n",
    "third = round(len(holdout_df)/3)\r\n",
    "test_df = holdout_df[:third]\r\n",
    "dev_df = holdout_df[third:2*third]\r\n",
    "val_df = holdout_df[2*third:]"
   ],
   "outputs": [],
   "metadata": {}
  },
  {
   "cell_type": "code",
   "execution_count": 149,
   "source": [
    "train_df.to_csv('train_df.csv', index=False)\r\n",
    "val_df.to_csv('val_df.csv', index=False)\r\n",
    "dev_df.to_csv('dev_df.csv', index=False)\r\n",
    "test_df.to_csv('test_df.csv', index=False)"
   ],
   "outputs": [],
   "metadata": {}
  }
 ],
 "metadata": {
  "orig_nbformat": 4,
  "language_info": {
   "name": "python",
   "version": "3.9.6",
   "mimetype": "text/x-python",
   "codemirror_mode": {
    "name": "ipython",
    "version": 3
   },
   "pygments_lexer": "ipython3",
   "nbconvert_exporter": "python",
   "file_extension": ".py"
  },
  "kernelspec": {
   "name": "python3",
   "display_name": "Python 3.9.6 64-bit ('kickstart-et90GfLD': pipenv)"
  },
  "interpreter": {
   "hash": "7f348168da4656c19ea54772beb3b0ca6931a1c83b4cc20d34306b6f75485559"
  }
 },
 "nbformat": 4,
 "nbformat_minor": 2
}