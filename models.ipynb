{
 "cells": [
  {
   "cell_type": "code",
   "execution_count": 17,
   "source": [
    "import pandas as pd\r\n",
    "from category_encoders import OrdinalEncoder\r\n",
    "from sklearn.ensemble import RandomForestClassifier\r\n",
    "from sklearn.impute import SimpleImputer\r\n",
    "from sklearn.model_selection import train_test_split\r\n",
    "from sklearn.pipeline import make_pipeline\r\n",
    "from sklearn.tree import DecisionTreeClassifier, plot_tree\r\n",
    "import matplotlib.pyplot as plt\r\n",
    "import pandas as pd\r\n",
    "import numpy as np\r\n",
    "from sklearn.metrics import accuracy_score\r\n",
    "from sklearn.linear_model import LogisticRegression\r\n",
    "from sklearn.ensemble import GradientBoostingClassifier\r\n",
    "from xgboost import XGBClassifier"
   ],
   "outputs": [],
   "metadata": {}
  },
  {
   "cell_type": "code",
   "execution_count": 4,
   "source": [
    "df = pd.read_csv('cleaned_data_v1.csv')"
   ],
   "outputs": [],
   "metadata": {}
  },
  {
   "cell_type": "code",
   "execution_count": 5,
   "source": [
    "df.info()"
   ],
   "outputs": [
    {
     "output_type": "stream",
     "name": "stdout",
     "text": [
      "<class 'pandas.core.frame.DataFrame'>\n",
      "RangeIndex: 183674 entries, 0 to 183673\n",
      "Data columns (total 11 columns):\n",
      " #   Column                     Non-Null Count   Dtype  \n",
      "---  ------                     --------------   -----  \n",
      " 0   Unnamed: 0                 183674 non-null  int64  \n",
      " 1   blurb                      183674 non-null  object \n",
      " 2   category                   183674 non-null  object \n",
      " 3   country                    183674 non-null  object \n",
      " 4   created_at                 183674 non-null  object \n",
      " 5   deadline                   183674 non-null  object \n",
      " 6   launched_at                183674 non-null  object \n",
      " 7   state                      183674 non-null  object \n",
      " 8   goal_usd                   183674 non-null  float64\n",
      " 9   sub_category               177046 non-null  object \n",
      " 10  campaign_duration_in_days  183674 non-null  int64  \n",
      "dtypes: float64(1), int64(2), object(8)\n",
      "memory usage: 15.4+ MB\n"
     ]
    }
   ],
   "metadata": {}
  },
  {
   "cell_type": "code",
   "execution_count": 7,
   "source": [
    "# Split TV from FM\r\n",
    "target = 'state'\r\n",
    "y= df[target]\r\n",
    "X = df.drop(columns=target) "
   ],
   "outputs": [],
   "metadata": {}
  },
  {
   "cell_type": "code",
   "execution_count": 8,
   "source": [
    "# Train-val split\r\n",
    "X_train, X_val, y_train, y_val = train_test_split(X,y,test_size=0.2, random_state=42)"
   ],
   "outputs": [],
   "metadata": {}
  },
  {
   "cell_type": "code",
   "execution_count": 9,
   "source": [
    "# Baseline accuracy\r\n",
    "baseline_Acc = y_train.value_counts(normalize=True).max()\r\n",
    "print('Baseline accuracy:',baseline_Acc)"
   ],
   "outputs": [
    {
     "output_type": "stream",
     "name": "stdout",
     "text": [
      "Baseline accuracy: 0.5861752155656429\n"
     ]
    }
   ],
   "metadata": {}
  },
  {
   "cell_type": "code",
   "execution_count": 10,
   "source": [
    "# Decision Tree\r\n",
    "model_dt = make_pipeline(OrdinalEncoder(),\r\n",
    "                         SimpleImputer(strategy='mean'),\r\n",
    "                         DecisionTreeClassifier(random_state=42))\r\n",
    "\r\n",
    "model_dt.fit(X_train,y_train)"
   ],
   "outputs": [
    {
     "output_type": "execute_result",
     "data": {
      "text/plain": [
       "Pipeline(steps=[('ordinalencoder',\n",
       "                 OrdinalEncoder(cols=['blurb', 'category', 'country',\n",
       "                                      'created_at', 'deadline', 'launched_at',\n",
       "                                      'sub_category'],\n",
       "                                mapping=[{'col': 'blurb',\n",
       "                                          'data_type': dtype('O'),\n",
       "                                          'mapping': You mess with the supernatural, you get demonic possession.                                                                                     1\n",
       "Website Design Initiative for people who need a website for a business or to promote and reasonable prices.                                     2\n",
       "🇯🇲 🦁 BIG UP! VIB...\n",
       "2013-01-08 12:49:03    146825\n",
       "NaN                        -2\n",
       "Length: 146826, dtype: int64},\n",
       "                                         {'col': 'sub_category',\n",
       "                                          'data_type': dtype('O'),\n",
       "                                          'mapping': horror               1\n",
       "graphic design       2\n",
       "experimental         3\n",
       "graphic novels       4\n",
       "fantasy              5\n",
       "                  ... \n",
       "letterpress        143\n",
       "blues              144\n",
       "typography         145\n",
       "social practice    146\n",
       "taxidermy          147\n",
       "Length: 147, dtype: int64}])),\n",
       "                ('simpleimputer', SimpleImputer()),\n",
       "                ('decisiontreeclassifier',\n",
       "                 DecisionTreeClassifier(random_state=42))])"
      ]
     },
     "metadata": {},
     "execution_count": 10
    }
   ],
   "metadata": {}
  },
  {
   "cell_type": "code",
   "execution_count": 12,
   "source": [
    "print('model_dt accuracy score for training', accuracy_score(y_train, model_dt.predict(X_train)))\r\n",
    "print('model_dt accuracy score for val', accuracy_score(y_val, model_dt.predict(X_val)))"
   ],
   "outputs": [
    {
     "output_type": "stream",
     "name": "stdout",
     "text": [
      "model_dt accuracy score for training 1.0\n",
      "model_dt accuracy score for val 0.6930720021777597\n"
     ]
    }
   ],
   "metadata": {}
  },
  {
   "cell_type": "code",
   "execution_count": 13,
   "source": [
    "# Random Forest\r\n",
    "model_rf = make_pipeline(OrdinalEncoder(),\r\n",
    "                         SimpleImputer(strategy='mean'), \r\n",
    "                         RandomForestClassifier(n_jobs = -1, random_state=42, \r\n",
    "                                                n_estimators = 100, max_samples = 0.8))\r\n",
    "model_rf.fit(X_train,y_train)"
   ],
   "outputs": [
    {
     "output_type": "execute_result",
     "data": {
      "text/plain": [
       "Pipeline(steps=[('ordinalencoder',\n",
       "                 OrdinalEncoder(cols=['blurb', 'category', 'country',\n",
       "                                      'created_at', 'deadline', 'launched_at',\n",
       "                                      'sub_category'],\n",
       "                                mapping=[{'col': 'blurb',\n",
       "                                          'data_type': dtype('O'),\n",
       "                                          'mapping': You mess with the supernatural, you get demonic possession.                                                                                     1\n",
       "Website Design Initiative for people who need a website for a business or to promote and reasonable prices.                                     2\n",
       "🇯🇲 🦁 BIG UP! VIB...\n",
       "Length: 146826, dtype: int64},\n",
       "                                         {'col': 'sub_category',\n",
       "                                          'data_type': dtype('O'),\n",
       "                                          'mapping': horror               1\n",
       "graphic design       2\n",
       "experimental         3\n",
       "graphic novels       4\n",
       "fantasy              5\n",
       "                  ... \n",
       "letterpress        143\n",
       "blues              144\n",
       "typography         145\n",
       "social practice    146\n",
       "taxidermy          147\n",
       "Length: 147, dtype: int64}])),\n",
       "                ('simpleimputer', SimpleImputer()),\n",
       "                ('randomforestclassifier',\n",
       "                 RandomForestClassifier(max_samples=0.8, n_jobs=-1,\n",
       "                                        random_state=42))])"
      ]
     },
     "metadata": {},
     "execution_count": 13
    }
   ],
   "metadata": {}
  },
  {
   "cell_type": "code",
   "execution_count": 14,
   "source": [
    "print('model_rf accuracy score for training', accuracy_score(y_train, model_rf.predict(X_train)))\r\n",
    "print('model_rf accuracy score for val', accuracy_score(y_val, model_rf.predict(X_val)))"
   ],
   "outputs": [
    {
     "output_type": "stream",
     "name": "stdout",
     "text": [
      "model_rf accuracy score for training 0.9995168062937682\n",
      "model_rf accuracy score for val 0.7477337688852593\n"
     ]
    }
   ],
   "metadata": {}
  },
  {
   "cell_type": "code",
   "execution_count": 26,
   "source": [
    "# Gradient boosted\r\n",
    "model_gb = make_pipeline(OrdinalEncoder(),\r\n",
    "                         SimpleImputer(strategy='mean'),\r\n",
    "                         GradientBoostingClassifier(random_state = 42, n_estimators=75, learning_rate = 0.2))\r\n",
    "model_gb.fit(X_train,y_train)"
   ],
   "outputs": [
    {
     "output_type": "execute_result",
     "data": {
      "text/plain": [
       "Pipeline(steps=[('ordinalencoder',\n",
       "                 OrdinalEncoder(cols=['blurb', 'category', 'country',\n",
       "                                      'created_at', 'deadline', 'launched_at',\n",
       "                                      'sub_category'],\n",
       "                                mapping=[{'col': 'blurb',\n",
       "                                          'data_type': dtype('O'),\n",
       "                                          'mapping': You mess with the supernatural, you get demonic possession.                                                                                     1\n",
       "Website Design Initiative for people who need a website for a business or to promote and reasonable prices.                                     2\n",
       "🇯🇲 🦁 BIG UP! VIB...\n",
       "Length: 146826, dtype: int64},\n",
       "                                         {'col': 'sub_category',\n",
       "                                          'data_type': dtype('O'),\n",
       "                                          'mapping': horror               1\n",
       "graphic design       2\n",
       "experimental         3\n",
       "graphic novels       4\n",
       "fantasy              5\n",
       "                  ... \n",
       "letterpress        143\n",
       "blues              144\n",
       "typography         145\n",
       "social practice    146\n",
       "taxidermy          147\n",
       "Length: 147, dtype: int64}])),\n",
       "                ('simpleimputer', SimpleImputer()),\n",
       "                ('gradientboostingclassifier',\n",
       "                 GradientBoostingClassifier(learning_rate=0.2, n_estimators=75,\n",
       "                                            random_state=42))])"
      ]
     },
     "metadata": {},
     "execution_count": 26
    }
   ],
   "metadata": {}
  },
  {
   "cell_type": "code",
   "execution_count": 27,
   "source": [
    "print('Training Accuracy', model_gb.score(X_train, y_train))\r\n",
    "print('Validation Accuracy', model_gb.score(X_val, y_val))"
   ],
   "outputs": [
    {
     "output_type": "stream",
     "name": "stdout",
     "text": [
      "Training Accuracy 0.765800774471039\n",
      "Validation Accuracy 0.7651014019327617\n"
     ]
    }
   ],
   "metadata": {}
  },
  {
   "cell_type": "code",
   "execution_count": 20,
   "source": [
    "# XGBoost model\r\n",
    "model_xgb = make_pipeline(OrdinalEncoder(),\r\n",
    "                         SimpleImputer(strategy='mean'),\r\n",
    "                         XGBClassifier(random_state = 42, n_estimators=75, n_jobs = -1, learning_rate = 0.2))\r\n",
    "model_xgb.fit(X_train,y_train)"
   ],
   "outputs": [
    {
     "output_type": "stream",
     "name": "stderr",
     "text": [
      "C:\\Users\\hello\\AppData\\Local\\Programs\\Python\\Python38\\lib\\site-packages\\xgboost\\sklearn.py:1146: UserWarning: The use of label encoder in XGBClassifier is deprecated and will be removed in a future release. To remove this warning, do the following: 1) Pass option use_label_encoder=False when constructing XGBClassifier object; and 2) Encode your labels (y) as integers starting with 0, i.e. 0, 1, 2, ..., [num_class - 1].\n",
      "  warnings.warn(label_encoder_deprecation_msg, UserWarning)\n"
     ]
    },
    {
     "output_type": "stream",
     "name": "stdout",
     "text": [
      "[17:32:29] WARNING: C:/Users/Administrator/workspace/xgboost-win64_release_1.4.0/src/learner.cc:1095: Starting in XGBoost 1.3.0, the default evaluation metric used with the objective 'binary:logistic' was changed from 'error' to 'logloss'. Explicitly set eval_metric if you'd like to restore the old behavior.\n"
     ]
    },
    {
     "output_type": "execute_result",
     "data": {
      "text/plain": [
       "Pipeline(steps=[('ordinalencoder',\n",
       "                 OrdinalEncoder(cols=['blurb', 'category', 'country',\n",
       "                                      'created_at', 'deadline', 'launched_at',\n",
       "                                      'sub_category'],\n",
       "                                mapping=[{'col': 'blurb',\n",
       "                                          'data_type': dtype('O'),\n",
       "                                          'mapping': You mess with the supernatural, you get demonic possession.                                                                                     1\n",
       "Website Design Initiative for people who need a website for a business or to promote and reasonable prices.                                     2\n",
       "🇯🇲 🦁 BIG UP! VIB...\n",
       "                               colsample_bytree=1, gamma=0, gpu_id=-1,\n",
       "                               importance_type='gain',\n",
       "                               interaction_constraints='', learning_rate=0.2,\n",
       "                               max_delta_step=0, max_depth=6,\n",
       "                               min_child_weight=1, missing=nan,\n",
       "                               monotone_constraints='()', n_estimators=75,\n",
       "                               n_jobs=-1, num_parallel_tree=1, random_state=42,\n",
       "                               reg_alpha=0, reg_lambda=1, scale_pos_weight=1,\n",
       "                               subsample=1, tree_method='exact',\n",
       "                               validate_parameters=1, verbosity=None))])"
      ]
     },
     "metadata": {},
     "execution_count": 20
    }
   ],
   "metadata": {}
  },
  {
   "cell_type": "code",
   "execution_count": 21,
   "source": [
    "print('Training Accuracy', model_xgb.score(X_train, y_train))\r\n",
    "print('Validation Accuracy', model_xgb.score(X_val, y_val))"
   ],
   "outputs": [
    {
     "output_type": "stream",
     "name": "stdout",
     "text": [
      "Training Accuracy 0.7986579464948039\n",
      "Validation Accuracy 0.7800190553967605\n"
     ]
    }
   ],
   "metadata": {}
  }
 ],
 "metadata": {
  "orig_nbformat": 4,
  "language_info": {
   "name": "python",
   "version": "3.8.5",
   "mimetype": "text/x-python",
   "codemirror_mode": {
    "name": "ipython",
    "version": 3
   },
   "pygments_lexer": "ipython3",
   "nbconvert_exporter": "python",
   "file_extension": ".py"
  },
  "kernelspec": {
   "name": "python3",
   "display_name": "Python 3.8.5 64-bit"
  },
  "interpreter": {
   "hash": "e742e75b7afbf361dd5cb6d00d7abf401434c63dc4da5fc859975c58d6679666"
  }
 },
 "nbformat": 4,
 "nbformat_minor": 2
}